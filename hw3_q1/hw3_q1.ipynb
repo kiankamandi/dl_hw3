{
  "metadata": {
    "kernelspec": {
      "language": "python",
      "display_name": "Python 3",
      "name": "python3"
    },
    "language_info": {
      "name": "python",
      "version": "3.10.12",
      "mimetype": "text/x-python",
      "codemirror_mode": {
        "name": "ipython",
        "version": 3
      },
      "pygments_lexer": "ipython3",
      "nbconvert_exporter": "python",
      "file_extension": ".py"
    },
    "kaggle": {
      "accelerator": "nvidiaTeslaT4",
      "dataSources": [],
      "dockerImageVersionId": 30615,
      "isInternetEnabled": true,
      "language": "python",
      "sourceType": "notebook",
      "isGpuEnabled": true
    },
    "colab": {
      "provenance": []
    }
  },
  "nbformat_minor": 0,
  "nbformat": 4,
  "cells": [
    {
      "cell_type": "code",
      "source": [
        "import torch\n",
        "from torch import nn, optim\n",
        "from torchvision import datasets, transforms\n",
        "from torch.utils.data import DataLoader\n",
        "from torchvision.models import resnet50, ResNet50_Weights\n",
        "import matplotlib.pyplot as plt\n",
        "from tqdm import tqdm"
      ],
      "metadata": {
        "_uuid": "8f2839f25d086af736a60e9eeb907d3b93b6e0e5",
        "_cell_guid": "b1076dfc-b9ad-4769-8c92-a6c4dae69d19",
        "execution": {
          "iopub.status.busy": "2023-12-11T16:43:03.181146Z",
          "iopub.execute_input": "2023-12-11T16:43:03.181940Z",
          "iopub.status.idle": "2023-12-11T16:43:06.908031Z",
          "shell.execute_reply.started": "2023-12-11T16:43:03.181905Z",
          "shell.execute_reply": "2023-12-11T16:43:06.907162Z"
        },
        "trusted": true,
        "id": "VmfJQuAXSgLZ"
      },
      "execution_count": null,
      "outputs": []
    },
    {
      "cell_type": "code",
      "source": [
        "device = 'cuda' if torch.cuda.is_available() else 'cpu'\n",
        "device"
      ],
      "metadata": {
        "execution": {
          "iopub.status.busy": "2023-12-11T16:43:06.909758Z",
          "iopub.execute_input": "2023-12-11T16:43:06.910186Z",
          "iopub.status.idle": "2023-12-11T16:43:06.983361Z",
          "shell.execute_reply.started": "2023-12-11T16:43:06.910156Z",
          "shell.execute_reply": "2023-12-11T16:43:06.982398Z"
        },
        "trusted": true,
        "id": "Zaobsvu3SgLb",
        "outputId": "a28d315b-8a16-41d4-8736-618c92e9d463"
      },
      "execution_count": null,
      "outputs": [
        {
          "execution_count": 3,
          "output_type": "execute_result",
          "data": {
            "text/plain": "'cuda'"
          },
          "metadata": {}
        }
      ]
    },
    {
      "cell_type": "code",
      "source": [
        "def generate_triplets(X, y):\n",
        "    '''\n",
        "    this function get batch of features and set them as anchors and generate positve and\n",
        "    negative instances corresponding to anchors\n",
        "    Args:\n",
        "        X: features that are considered as anchors with the shape (batch_size, c, h, w)\n",
        "        y: labels with the shape (batch_size)\n",
        "    Returns:\n",
        "        batch of anchors, positive and negative instances as a tuple\n",
        "    '''\n",
        "\n",
        "    anchor, positive, negative = [], [], []\n",
        "\n",
        "    for i in range(len(X)):\n",
        "        # Select anchor image and label\n",
        "        X_anchor = X[i]\n",
        "        anchor_label = y[i]\n",
        "\n",
        "        # Select positive example (same class as anchor)\n",
        "        positive_indices = (y == anchor_label).nonzero(as_tuple=True)[0]\n",
        "        positive_idx = torch.randint(0, len(positive_indices), (1,))\n",
        "        X_pos = X[positive_indices[positive_idx]]\n",
        "\n",
        "        # Select negative example (different class from anchor)\n",
        "        negative_indices = (y != anchor_label).nonzero(as_tuple=True)[0]\n",
        "        negative_idx = torch.randint(0, len(negative_indices), (1,))\n",
        "        X_neg = X[negative_indices[negative_idx]]\n",
        "\n",
        "        anchor.append(X_anchor)\n",
        "        positive.append(X_pos)\n",
        "        negative.append(X_neg)\n",
        "\n",
        "    return torch.stack(anchor), torch.stack(positive), torch.stack(negative)"
      ],
      "metadata": {
        "execution": {
          "iopub.status.busy": "2023-12-11T16:43:06.984762Z",
          "iopub.execute_input": "2023-12-11T16:43:06.985094Z",
          "iopub.status.idle": "2023-12-11T16:43:06.994500Z",
          "shell.execute_reply.started": "2023-12-11T16:43:06.985061Z",
          "shell.execute_reply": "2023-12-11T16:43:06.993555Z"
        },
        "trusted": true,
        "id": "4BZm5OgHSgLb"
      },
      "execution_count": null,
      "outputs": []
    },
    {
      "cell_type": "code",
      "source": [
        "def load_data(batch_size:int):\n",
        "    '''\n",
        "    this function load \"airplane\" and \"automobile\" classes of cifar-10 data and performs\n",
        "    suitable transformations on dataset\n",
        "    Args:\n",
        "        batch_size: int number as batch size\n",
        "    Returns:\n",
        "        train_loader: train dataloader object\n",
        "        test_loader: test dataloader object\n",
        "    '''\n",
        "\n",
        "    # Set random seed for reproducibility\n",
        "    torch.manual_seed(42)\n",
        "\n",
        "    # our dataset should be prepared in the same way as the original data that went into the resnet50 model.\n",
        "    auto_trans = ResNet50_Weights.DEFAULT.transforms()\n",
        "    transform = transforms.Compose([transforms.ToTensor(),\n",
        "                                    auto_trans\n",
        "                                    ])\n",
        "\n",
        "    # Load the entire CIFAR-10 dataset\n",
        "    train_dataset_all = datasets.CIFAR10(root='./data', train=True, download=True, transform=transform)\n",
        "    test_dataset_all = datasets.CIFAR10(root='./data', train=False, download=True, transform=transform)\n",
        "\n",
        "    classes = [\"airplane\", \"automobile\"]\n",
        "\n",
        "    # Filter the dataset to include only the selected classes\n",
        "    filtered_idx = [i for i, label in enumerate(train_dataset_all.targets) if train_dataset_all.classes[label] in classes]\n",
        "    train_dataset = torch.utils.data.Subset(train_dataset_all, filtered_idx)\n",
        "    filtered_idx = [i for i, label in enumerate(test_dataset_all.targets) if test_dataset_all.classes[label] in classes]\n",
        "    test_dataset = torch.utils.data.Subset(test_dataset_all, filtered_idx)\n",
        "\n",
        "    # Define data loaders\n",
        "    train_loader = DataLoader(train_dataset, batch_size=batch_size, shuffle=True)\n",
        "    test_loader = DataLoader(test_dataset, batch_size=batch_size, shuffle=True)\n",
        "\n",
        "    return train_loader, test_loader"
      ],
      "metadata": {
        "execution": {
          "iopub.status.busy": "2023-12-11T16:43:08.130836Z",
          "iopub.execute_input": "2023-12-11T16:43:08.131217Z",
          "iopub.status.idle": "2023-12-11T16:43:08.140233Z",
          "shell.execute_reply.started": "2023-12-11T16:43:08.131187Z",
          "shell.execute_reply": "2023-12-11T16:43:08.139255Z"
        },
        "trusted": true,
        "id": "h76R9PAcSgLc"
      },
      "execution_count": null,
      "outputs": []
    },
    {
      "cell_type": "code",
      "source": [
        "BATCH_SIZE = 32\n",
        "train_dataloader, test_dataloader = load_data(BATCH_SIZE)"
      ],
      "metadata": {
        "execution": {
          "iopub.status.busy": "2023-12-11T16:43:10.282336Z",
          "iopub.execute_input": "2023-12-11T16:43:10.283080Z",
          "iopub.status.idle": "2023-12-11T16:43:16.486345Z",
          "shell.execute_reply.started": "2023-12-11T16:43:10.283046Z",
          "shell.execute_reply": "2023-12-11T16:43:16.485459Z"
        },
        "trusted": true,
        "id": "oAluHeP7SgLc",
        "outputId": "96fd1a00-30d5-4eed-a2e5-1936237ed181"
      },
      "execution_count": null,
      "outputs": [
        {
          "name": "stdout",
          "text": "Downloading https://www.cs.toronto.edu/~kriz/cifar-10-python.tar.gz to ./data/cifar-10-python.tar.gz\n",
          "output_type": "stream"
        },
        {
          "name": "stderr",
          "text": "100%|██████████| 170498071/170498071 [00:02<00:00, 60377696.34it/s]\n",
          "output_type": "stream"
        },
        {
          "name": "stdout",
          "text": "Extracting ./data/cifar-10-python.tar.gz to ./data\nFiles already downloaded and verified\n",
          "output_type": "stream"
        }
      ]
    },
    {
      "cell_type": "code",
      "source": [
        "print(f\"Length of train dataloader: {len(train_dataloader)} batches of {BATCH_SIZE}\")\n",
        "print(f\"Length of test dataloader: {len(test_dataloader)} batches of {BATCH_SIZE}\")"
      ],
      "metadata": {
        "execution": {
          "iopub.status.busy": "2023-12-11T15:37:17.976930Z",
          "iopub.execute_input": "2023-12-11T15:37:17.977173Z",
          "iopub.status.idle": "2023-12-11T15:37:17.982244Z",
          "shell.execute_reply.started": "2023-12-11T15:37:17.977150Z",
          "shell.execute_reply": "2023-12-11T15:37:17.981416Z"
        },
        "trusted": true,
        "id": "N4ushS4ESgLd",
        "outputId": "57a0609a-963f-4e03-a8bc-35d8da3acf36"
      },
      "execution_count": null,
      "outputs": [
        {
          "name": "stdout",
          "text": "Length of train dataloader: 313 batches of 32\nLength of test dataloader: 63 batches of 32\n",
          "output_type": "stream"
        }
      ]
    },
    {
      "cell_type": "code",
      "source": [
        "# Check out what's inside the training dataloader\n",
        "train_features_batch, train_labels_batch = next(iter(train_dataloader))\n",
        "train_features_batch.shape, train_labels_batch.shape"
      ],
      "metadata": {
        "execution": {
          "iopub.status.busy": "2023-12-11T15:37:17.983427Z",
          "iopub.execute_input": "2023-12-11T15:37:17.983683Z",
          "iopub.status.idle": "2023-12-11T15:37:18.135810Z",
          "shell.execute_reply.started": "2023-12-11T15:37:17.983660Z",
          "shell.execute_reply": "2023-12-11T15:37:18.134958Z"
        },
        "trusted": true,
        "id": "Jtn5Hd1GSgLd",
        "outputId": "037497cf-84a9-4717-e736-6315fa547182"
      },
      "execution_count": null,
      "outputs": [
        {
          "name": "stderr",
          "text": "/opt/conda/lib/python3.10/site-packages/torchvision/transforms/functional.py:1603: UserWarning: The default value of the antialias parameter of all the resizing transforms (Resize(), RandomResizedCrop(), etc.) will change from None to True in v0.17, in order to be consistent across the PIL and Tensor backends. To suppress this warning, directly pass antialias=True (recommended, future default), antialias=None (current default, which means False for Tensors and True for PIL), or antialias=False (only works on Tensors - PIL will still use antialiasing). This also applies if you are using the inference transforms from the models weights: update the call to weights.transforms(antialias=True).\n  warnings.warn(\n",
          "output_type": "stream"
        },
        {
          "execution_count": 7,
          "output_type": "execute_result",
          "data": {
            "text/plain": "(torch.Size([32, 3, 224, 224]), torch.Size([32]))"
          },
          "metadata": {}
        }
      ]
    },
    {
      "cell_type": "code",
      "source": [
        "class ResnetModel(nn.Module):\n",
        "    '''\n",
        "    this class is our model that is based on resnet50.\n",
        "    fc layer has been replaced with two fc layer with shape (2048, 128) and (128, 2)\n",
        "    '''\n",
        "    #initializing model\n",
        "    def __init__(self, device=device):\n",
        "        super().__init__()\n",
        "        weights = ResNet50_Weights.DEFAULT\n",
        "        self.model = resnet50(weights=weights).to(device)\n",
        "        self.model.fc = nn.Identity()\n",
        "        self.classifier_layer = nn.Sequential(nn.Linear(2048, 128),\n",
        "                                              nn.ReLU(inplace=True),\n",
        "                                              nn.Linear(128, 2)).to(device)\n",
        "\n",
        "        self.optimizer = optim.Adam(self.parameters(), lr=0.001)\n",
        "        self.test_loss, self.test_acc = 0., 0.\n",
        "        #freeze all parameters of a model\n",
        "        for param in self.parameters():\n",
        "            param.requires_grad = False\n",
        "\n",
        "        torch.manual_seed(42)\n",
        "\n",
        "    #model forward pass\n",
        "    def forward(self, x):\n",
        "        embeddings = self.model(x)\n",
        "        class_outputs = self.classifier_layer(embeddings)\n",
        "        return embeddings, class_outputs\n",
        "\n",
        "    def train_classifier(self, dataloader, batch_size, num_epochs=5):\n",
        "        '''\n",
        "        this function freeze conv layers and just train fc layers\n",
        "        we use this function for part 1 and part 2\n",
        "        Arg:\n",
        "            dataloader: get train dataloader\n",
        "            batch_size: int number as batch size\n",
        "            num_epochs: number of epochs\n",
        "        Return:\n",
        "            total_loss_list: a list that contains losses after each epoch\n",
        "            train_acc_list: a list that contains train accuracy after each epoch\n",
        "        '''\n",
        "\n",
        "        total_loss_list = []\n",
        "        train_acc_list = []\n",
        "        for param in self.classifier_layer.parameters():\n",
        "            param.requires_grad = True\n",
        "\n",
        "        loss_fn = nn.CrossEntropyLoss()\n",
        "\n",
        "        for epoch in tqdm(range(num_epochs)):\n",
        "            self.train()\n",
        "\n",
        "            correct_pred = 0.\n",
        "            train_acc = 0.\n",
        "            total_loss = 0.\n",
        "\n",
        "            for X, y in iter(dataloader):\n",
        "                X = X.to(device)\n",
        "                y = y.to(device)\n",
        "\n",
        "                _, outputs = self(X)\n",
        "                loss = loss_fn(outputs, y)\n",
        "\n",
        "                self.optimizer.zero_grad()\n",
        "                loss.backward()\n",
        "                self.optimizer.step()\n",
        "\n",
        "                _, predictions = torch.max(outputs, 1)\n",
        "                correct_pred += torch.eq(predictions, y).float().sum()\n",
        "                total_loss += loss\n",
        "            train_acc = correct_pred / (len(dataloader) * batch_size)\n",
        "            print(f\"train accuracy = {train_acc} in epoch{epoch}\")\n",
        "            train_acc_list.append(train_acc)\n",
        "            total_loss_list.append(total_loss)\n",
        "        return train_acc_list, total_loss_list\n",
        "\n",
        "    def train_feature_extractor(self, dataloader, num_epochs=5):\n",
        "        '''\n",
        "        this function use for training conv layers using triplet loss\n",
        "        Arg:\n",
        "            dataloader: get train dataloader\n",
        "            num_epochs: number of epochs\n",
        "        Return:\n",
        "            total_loss_list: a list that contains losses after each epoch\n",
        "            train_acc_list: empty list\n",
        "        '''\n",
        "        total_loss_list = []\n",
        "        train_acc_list = []\n",
        "        for param in self.model.parameters():\n",
        "            param.requires_grad = True\n",
        "\n",
        "        self.train()\n",
        "        triplet_loss = nn.TripletMarginLoss(margin=0.5, p=2)\n",
        "\n",
        "        for epoch in tqdm(range(num_epochs)):\n",
        "            total_loss = 0.\n",
        "\n",
        "            for X, y in iter(dataloader):\n",
        "                triplet_data_tuple = generate_triplets(X, y)\n",
        "                anchor = triplet_data_tuple[0].to(device)\n",
        "                positive = triplet_data_tuple[1].squeeze(dim=1).to(device)\n",
        "                negative = triplet_data_tuple[2].squeeze(dim=1).to(device)\n",
        "\n",
        "                self.optimizer.zero_grad()\n",
        "                anchor_out, _ = self(anchor)\n",
        "                positive_out, _ = self(positive)\n",
        "                negative_out, _ = self(negative)\n",
        "\n",
        "                loss = triplet_loss(anchor_out, positive_out, negative_out)\n",
        "                loss.backward()\n",
        "                self.optimizer.step()\n",
        "                total_loss += loss\n",
        "                del anchor\n",
        "                del positive\n",
        "                del negative\n",
        "            total_loss_list.append(total_loss)\n",
        "\n",
        "            if device == 'cuda':\n",
        "                import gc\n",
        "                torch.cuda.empty_cache()\n",
        "                gc.collect()\n",
        "\n",
        "        return train_acc_list, total_loss_list\n",
        "\n",
        "    def train_model(self, dataloader, batch_size, num_epochs=5):\n",
        "        '''\n",
        "        this function train a conv layers and classifier using hybrid loss\n",
        "        Arg:\n",
        "            dataloader: get train dataloader\n",
        "            batch_size: int number as batch size\n",
        "            num_epochs: number of epochs\n",
        "        Return:\n",
        "            total_loss_list: a list that contains losses after each epoch\n",
        "            train_acc_list: a list that contains train accuracy after each epoch\n",
        "        '''\n",
        "        total_loss_list = []\n",
        "        train_acc_list = []\n",
        "        for param in self.parameters():\n",
        "            param.requires_grad = True\n",
        "\n",
        "        self.train()\n",
        "        triplet_loss = nn.TripletMarginLoss(margin=0.5, p=2)\n",
        "        cross_entropy_loss = nn.CrossEntropyLoss()\n",
        "\n",
        "        for epoch in tqdm(range(num_epochs)):\n",
        "            total_loss, train_acc, correct_pred = 0., 0., 0.\n",
        "\n",
        "            for X, y in iter(dataloader):\n",
        "                triplet_data_tuple = generate_triplets(X, y)\n",
        "                y = y.to(device)\n",
        "                anchor = triplet_data_tuple[0].to(device)\n",
        "                positive = triplet_data_tuple[1].squeeze(dim=1).to(device)\n",
        "                negative = triplet_data_tuple[2].squeeze(dim=1).to(device)\n",
        "\n",
        "                self.optimizer.zero_grad()\n",
        "                anchor_out, outputs = self(anchor)\n",
        "                positive_out, _ = self(positive)\n",
        "                negative_out, _ = self(negative)\n",
        "\n",
        "                loss = triplet_loss(anchor_out, positive_out, negative_out) + cross_entropy_loss(outputs, y)\n",
        "                loss.backward()\n",
        "                self.optimizer.step()\n",
        "                total_loss += loss\n",
        "                _, predictions = torch.max(outputs, 1)\n",
        "                correct_pred += torch.eq(predictions, y).float().sum()\n",
        "                del y\n",
        "                del anchor\n",
        "                del positive\n",
        "                del negative\n",
        "                del outputs\n",
        "                if device == 'cuda':\n",
        "                    import gc\n",
        "                    torch.cuda.empty_cache()\n",
        "                    gc.collect()\n",
        "            train_acc = correct_pred / (len(dataloader) * batch_size)\n",
        "            print(f\"train accuracy = {train_acc} in epoch{epoch}\")\n",
        "            train_acc_list.append(train_acc)\n",
        "            total_loss_list.append(total_loss)\n",
        "\n",
        "\n",
        "\n",
        "        return train_acc_list, total_loss_list\n",
        "\n",
        "\n",
        "    def test_model(self, dataloader, batch_size):\n",
        "        '''\n",
        "        this function is used for test model\n",
        "        Arg:\n",
        "            dataloader: test dataloader\n",
        "            batch_size: int number as batch size\n",
        "        Return:\n",
        "            test accuracy and loss\n",
        "        '''\n",
        "        loss_fn = nn.CrossEntropyLoss()\n",
        "        self.eval()\n",
        "\n",
        "        correct_pred = 0.\n",
        "\n",
        "        with torch.inference_mode():\n",
        "            for X, y in iter(dataloader):\n",
        "                X = X.to(device)\n",
        "                y = y.to(device)\n",
        "\n",
        "                _, outputs = self(X)\n",
        "                loss = loss_fn(outputs, y)\n",
        "\n",
        "                self.test_loss += loss\n",
        "                _, predictions = torch.max(outputs, 1)\n",
        "                correct_pred += torch.eq(predictions, y).float().sum()\n",
        "                del X\n",
        "                del y\n",
        "        if device == 'cuda':\n",
        "            import gc\n",
        "            torch.cuda.empty_cache()\n",
        "            gc.collect()\n",
        "\n",
        "        self.test_acc = correct_pred / (len(dataloader) * batch_size)\n",
        "        return self.test_loss, self.test_acc\n"
      ],
      "metadata": {
        "execution": {
          "iopub.status.busy": "2023-12-11T17:20:42.615060Z",
          "iopub.execute_input": "2023-12-11T17:20:42.615402Z",
          "iopub.status.idle": "2023-12-11T17:20:42.643057Z",
          "shell.execute_reply.started": "2023-12-11T17:20:42.615376Z",
          "shell.execute_reply": "2023-12-11T17:20:42.642185Z"
        },
        "trusted": true,
        "id": "sTE4T8DBSgLe"
      },
      "execution_count": null,
      "outputs": []
    },
    {
      "cell_type": "code",
      "source": [
        "model1 = ResnetModel()\n",
        "model1"
      ],
      "metadata": {
        "execution": {
          "iopub.status.busy": "2023-12-11T15:37:18.167200Z",
          "iopub.execute_input": "2023-12-11T15:37:18.168011Z",
          "iopub.status.idle": "2023-12-11T15:37:22.429368Z",
          "shell.execute_reply.started": "2023-12-11T15:37:18.167985Z",
          "shell.execute_reply": "2023-12-11T15:37:22.428404Z"
        },
        "trusted": true,
        "id": "o-WC8nTNSgLe",
        "outputId": "56a43e09-60af-435e-9be0-4b48991d2357"
      },
      "execution_count": null,
      "outputs": [
        {
          "name": "stderr",
          "text": "Downloading: \"https://download.pytorch.org/models/resnet50-11ad3fa6.pth\" to /root/.cache/torch/hub/checkpoints/resnet50-11ad3fa6.pth\n100%|██████████| 97.8M/97.8M [00:00<00:00, 223MB/s] \n",
          "output_type": "stream"
        },
        {
          "execution_count": 9,
          "output_type": "execute_result",
          "data": {
            "text/plain": "ResnetModel(\n  (model): ResNet(\n    (conv1): Conv2d(3, 64, kernel_size=(7, 7), stride=(2, 2), padding=(3, 3), bias=False)\n    (bn1): BatchNorm2d(64, eps=1e-05, momentum=0.1, affine=True, track_running_stats=True)\n    (relu): ReLU(inplace=True)\n    (maxpool): MaxPool2d(kernel_size=3, stride=2, padding=1, dilation=1, ceil_mode=False)\n    (layer1): Sequential(\n      (0): Bottleneck(\n        (conv1): Conv2d(64, 64, kernel_size=(1, 1), stride=(1, 1), bias=False)\n        (bn1): BatchNorm2d(64, eps=1e-05, momentum=0.1, affine=True, track_running_stats=True)\n        (conv2): Conv2d(64, 64, kernel_size=(3, 3), stride=(1, 1), padding=(1, 1), bias=False)\n        (bn2): BatchNorm2d(64, eps=1e-05, momentum=0.1, affine=True, track_running_stats=True)\n        (conv3): Conv2d(64, 256, kernel_size=(1, 1), stride=(1, 1), bias=False)\n        (bn3): BatchNorm2d(256, eps=1e-05, momentum=0.1, affine=True, track_running_stats=True)\n        (relu): ReLU(inplace=True)\n        (downsample): Sequential(\n          (0): Conv2d(64, 256, kernel_size=(1, 1), stride=(1, 1), bias=False)\n          (1): BatchNorm2d(256, eps=1e-05, momentum=0.1, affine=True, track_running_stats=True)\n        )\n      )\n      (1): Bottleneck(\n        (conv1): Conv2d(256, 64, kernel_size=(1, 1), stride=(1, 1), bias=False)\n        (bn1): BatchNorm2d(64, eps=1e-05, momentum=0.1, affine=True, track_running_stats=True)\n        (conv2): Conv2d(64, 64, kernel_size=(3, 3), stride=(1, 1), padding=(1, 1), bias=False)\n        (bn2): BatchNorm2d(64, eps=1e-05, momentum=0.1, affine=True, track_running_stats=True)\n        (conv3): Conv2d(64, 256, kernel_size=(1, 1), stride=(1, 1), bias=False)\n        (bn3): BatchNorm2d(256, eps=1e-05, momentum=0.1, affine=True, track_running_stats=True)\n        (relu): ReLU(inplace=True)\n      )\n      (2): Bottleneck(\n        (conv1): Conv2d(256, 64, kernel_size=(1, 1), stride=(1, 1), bias=False)\n        (bn1): BatchNorm2d(64, eps=1e-05, momentum=0.1, affine=True, track_running_stats=True)\n        (conv2): Conv2d(64, 64, kernel_size=(3, 3), stride=(1, 1), padding=(1, 1), bias=False)\n        (bn2): BatchNorm2d(64, eps=1e-05, momentum=0.1, affine=True, track_running_stats=True)\n        (conv3): Conv2d(64, 256, kernel_size=(1, 1), stride=(1, 1), bias=False)\n        (bn3): BatchNorm2d(256, eps=1e-05, momentum=0.1, affine=True, track_running_stats=True)\n        (relu): ReLU(inplace=True)\n      )\n    )\n    (layer2): Sequential(\n      (0): Bottleneck(\n        (conv1): Conv2d(256, 128, kernel_size=(1, 1), stride=(1, 1), bias=False)\n        (bn1): BatchNorm2d(128, eps=1e-05, momentum=0.1, affine=True, track_running_stats=True)\n        (conv2): Conv2d(128, 128, kernel_size=(3, 3), stride=(2, 2), padding=(1, 1), bias=False)\n        (bn2): BatchNorm2d(128, eps=1e-05, momentum=0.1, affine=True, track_running_stats=True)\n        (conv3): Conv2d(128, 512, kernel_size=(1, 1), stride=(1, 1), bias=False)\n        (bn3): BatchNorm2d(512, eps=1e-05, momentum=0.1, affine=True, track_running_stats=True)\n        (relu): ReLU(inplace=True)\n        (downsample): Sequential(\n          (0): Conv2d(256, 512, kernel_size=(1, 1), stride=(2, 2), bias=False)\n          (1): BatchNorm2d(512, eps=1e-05, momentum=0.1, affine=True, track_running_stats=True)\n        )\n      )\n      (1): Bottleneck(\n        (conv1): Conv2d(512, 128, kernel_size=(1, 1), stride=(1, 1), bias=False)\n        (bn1): BatchNorm2d(128, eps=1e-05, momentum=0.1, affine=True, track_running_stats=True)\n        (conv2): Conv2d(128, 128, kernel_size=(3, 3), stride=(1, 1), padding=(1, 1), bias=False)\n        (bn2): BatchNorm2d(128, eps=1e-05, momentum=0.1, affine=True, track_running_stats=True)\n        (conv3): Conv2d(128, 512, kernel_size=(1, 1), stride=(1, 1), bias=False)\n        (bn3): BatchNorm2d(512, eps=1e-05, momentum=0.1, affine=True, track_running_stats=True)\n        (relu): ReLU(inplace=True)\n      )\n      (2): Bottleneck(\n        (conv1): Conv2d(512, 128, kernel_size=(1, 1), stride=(1, 1), bias=False)\n        (bn1): BatchNorm2d(128, eps=1e-05, momentum=0.1, affine=True, track_running_stats=True)\n        (conv2): Conv2d(128, 128, kernel_size=(3, 3), stride=(1, 1), padding=(1, 1), bias=False)\n        (bn2): BatchNorm2d(128, eps=1e-05, momentum=0.1, affine=True, track_running_stats=True)\n        (conv3): Conv2d(128, 512, kernel_size=(1, 1), stride=(1, 1), bias=False)\n        (bn3): BatchNorm2d(512, eps=1e-05, momentum=0.1, affine=True, track_running_stats=True)\n        (relu): ReLU(inplace=True)\n      )\n      (3): Bottleneck(\n        (conv1): Conv2d(512, 128, kernel_size=(1, 1), stride=(1, 1), bias=False)\n        (bn1): BatchNorm2d(128, eps=1e-05, momentum=0.1, affine=True, track_running_stats=True)\n        (conv2): Conv2d(128, 128, kernel_size=(3, 3), stride=(1, 1), padding=(1, 1), bias=False)\n        (bn2): BatchNorm2d(128, eps=1e-05, momentum=0.1, affine=True, track_running_stats=True)\n        (conv3): Conv2d(128, 512, kernel_size=(1, 1), stride=(1, 1), bias=False)\n        (bn3): BatchNorm2d(512, eps=1e-05, momentum=0.1, affine=True, track_running_stats=True)\n        (relu): ReLU(inplace=True)\n      )\n    )\n    (layer3): Sequential(\n      (0): Bottleneck(\n        (conv1): Conv2d(512, 256, kernel_size=(1, 1), stride=(1, 1), bias=False)\n        (bn1): BatchNorm2d(256, eps=1e-05, momentum=0.1, affine=True, track_running_stats=True)\n        (conv2): Conv2d(256, 256, kernel_size=(3, 3), stride=(2, 2), padding=(1, 1), bias=False)\n        (bn2): BatchNorm2d(256, eps=1e-05, momentum=0.1, affine=True, track_running_stats=True)\n        (conv3): Conv2d(256, 1024, kernel_size=(1, 1), stride=(1, 1), bias=False)\n        (bn3): BatchNorm2d(1024, eps=1e-05, momentum=0.1, affine=True, track_running_stats=True)\n        (relu): ReLU(inplace=True)\n        (downsample): Sequential(\n          (0): Conv2d(512, 1024, kernel_size=(1, 1), stride=(2, 2), bias=False)\n          (1): BatchNorm2d(1024, eps=1e-05, momentum=0.1, affine=True, track_running_stats=True)\n        )\n      )\n      (1): Bottleneck(\n        (conv1): Conv2d(1024, 256, kernel_size=(1, 1), stride=(1, 1), bias=False)\n        (bn1): BatchNorm2d(256, eps=1e-05, momentum=0.1, affine=True, track_running_stats=True)\n        (conv2): Conv2d(256, 256, kernel_size=(3, 3), stride=(1, 1), padding=(1, 1), bias=False)\n        (bn2): BatchNorm2d(256, eps=1e-05, momentum=0.1, affine=True, track_running_stats=True)\n        (conv3): Conv2d(256, 1024, kernel_size=(1, 1), stride=(1, 1), bias=False)\n        (bn3): BatchNorm2d(1024, eps=1e-05, momentum=0.1, affine=True, track_running_stats=True)\n        (relu): ReLU(inplace=True)\n      )\n      (2): Bottleneck(\n        (conv1): Conv2d(1024, 256, kernel_size=(1, 1), stride=(1, 1), bias=False)\n        (bn1): BatchNorm2d(256, eps=1e-05, momentum=0.1, affine=True, track_running_stats=True)\n        (conv2): Conv2d(256, 256, kernel_size=(3, 3), stride=(1, 1), padding=(1, 1), bias=False)\n        (bn2): BatchNorm2d(256, eps=1e-05, momentum=0.1, affine=True, track_running_stats=True)\n        (conv3): Conv2d(256, 1024, kernel_size=(1, 1), stride=(1, 1), bias=False)\n        (bn3): BatchNorm2d(1024, eps=1e-05, momentum=0.1, affine=True, track_running_stats=True)\n        (relu): ReLU(inplace=True)\n      )\n      (3): Bottleneck(\n        (conv1): Conv2d(1024, 256, kernel_size=(1, 1), stride=(1, 1), bias=False)\n        (bn1): BatchNorm2d(256, eps=1e-05, momentum=0.1, affine=True, track_running_stats=True)\n        (conv2): Conv2d(256, 256, kernel_size=(3, 3), stride=(1, 1), padding=(1, 1), bias=False)\n        (bn2): BatchNorm2d(256, eps=1e-05, momentum=0.1, affine=True, track_running_stats=True)\n        (conv3): Conv2d(256, 1024, kernel_size=(1, 1), stride=(1, 1), bias=False)\n        (bn3): BatchNorm2d(1024, eps=1e-05, momentum=0.1, affine=True, track_running_stats=True)\n        (relu): ReLU(inplace=True)\n      )\n      (4): Bottleneck(\n        (conv1): Conv2d(1024, 256, kernel_size=(1, 1), stride=(1, 1), bias=False)\n        (bn1): BatchNorm2d(256, eps=1e-05, momentum=0.1, affine=True, track_running_stats=True)\n        (conv2): Conv2d(256, 256, kernel_size=(3, 3), stride=(1, 1), padding=(1, 1), bias=False)\n        (bn2): BatchNorm2d(256, eps=1e-05, momentum=0.1, affine=True, track_running_stats=True)\n        (conv3): Conv2d(256, 1024, kernel_size=(1, 1), stride=(1, 1), bias=False)\n        (bn3): BatchNorm2d(1024, eps=1e-05, momentum=0.1, affine=True, track_running_stats=True)\n        (relu): ReLU(inplace=True)\n      )\n      (5): Bottleneck(\n        (conv1): Conv2d(1024, 256, kernel_size=(1, 1), stride=(1, 1), bias=False)\n        (bn1): BatchNorm2d(256, eps=1e-05, momentum=0.1, affine=True, track_running_stats=True)\n        (conv2): Conv2d(256, 256, kernel_size=(3, 3), stride=(1, 1), padding=(1, 1), bias=False)\n        (bn2): BatchNorm2d(256, eps=1e-05, momentum=0.1, affine=True, track_running_stats=True)\n        (conv3): Conv2d(256, 1024, kernel_size=(1, 1), stride=(1, 1), bias=False)\n        (bn3): BatchNorm2d(1024, eps=1e-05, momentum=0.1, affine=True, track_running_stats=True)\n        (relu): ReLU(inplace=True)\n      )\n    )\n    (layer4): Sequential(\n      (0): Bottleneck(\n        (conv1): Conv2d(1024, 512, kernel_size=(1, 1), stride=(1, 1), bias=False)\n        (bn1): BatchNorm2d(512, eps=1e-05, momentum=0.1, affine=True, track_running_stats=True)\n        (conv2): Conv2d(512, 512, kernel_size=(3, 3), stride=(2, 2), padding=(1, 1), bias=False)\n        (bn2): BatchNorm2d(512, eps=1e-05, momentum=0.1, affine=True, track_running_stats=True)\n        (conv3): Conv2d(512, 2048, kernel_size=(1, 1), stride=(1, 1), bias=False)\n        (bn3): BatchNorm2d(2048, eps=1e-05, momentum=0.1, affine=True, track_running_stats=True)\n        (relu): ReLU(inplace=True)\n        (downsample): Sequential(\n          (0): Conv2d(1024, 2048, kernel_size=(1, 1), stride=(2, 2), bias=False)\n          (1): BatchNorm2d(2048, eps=1e-05, momentum=0.1, affine=True, track_running_stats=True)\n        )\n      )\n      (1): Bottleneck(\n        (conv1): Conv2d(2048, 512, kernel_size=(1, 1), stride=(1, 1), bias=False)\n        (bn1): BatchNorm2d(512, eps=1e-05, momentum=0.1, affine=True, track_running_stats=True)\n        (conv2): Conv2d(512, 512, kernel_size=(3, 3), stride=(1, 1), padding=(1, 1), bias=False)\n        (bn2): BatchNorm2d(512, eps=1e-05, momentum=0.1, affine=True, track_running_stats=True)\n        (conv3): Conv2d(512, 2048, kernel_size=(1, 1), stride=(1, 1), bias=False)\n        (bn3): BatchNorm2d(2048, eps=1e-05, momentum=0.1, affine=True, track_running_stats=True)\n        (relu): ReLU(inplace=True)\n      )\n      (2): Bottleneck(\n        (conv1): Conv2d(2048, 512, kernel_size=(1, 1), stride=(1, 1), bias=False)\n        (bn1): BatchNorm2d(512, eps=1e-05, momentum=0.1, affine=True, track_running_stats=True)\n        (conv2): Conv2d(512, 512, kernel_size=(3, 3), stride=(1, 1), padding=(1, 1), bias=False)\n        (bn2): BatchNorm2d(512, eps=1e-05, momentum=0.1, affine=True, track_running_stats=True)\n        (conv3): Conv2d(512, 2048, kernel_size=(1, 1), stride=(1, 1), bias=False)\n        (bn3): BatchNorm2d(2048, eps=1e-05, momentum=0.1, affine=True, track_running_stats=True)\n        (relu): ReLU(inplace=True)\n      )\n    )\n    (avgpool): AdaptiveAvgPool2d(output_size=(1, 1))\n    (fc): Identity()\n  )\n  (classifier_layer): Sequential(\n    (0): Linear(in_features=2048, out_features=128, bias=True)\n    (1): ReLU(inplace=True)\n    (2): Linear(in_features=128, out_features=2, bias=True)\n  )\n)"
          },
          "metadata": {}
        }
      ]
    },
    {
      "cell_type": "code",
      "source": [
        "train_acc_list = []\n",
        "total_loss_list = []\n",
        "train_acc_list, total_loss_list = model1.train_classifier(train_dataloader, BATCH_SIZE)"
      ],
      "metadata": {
        "execution": {
          "iopub.status.busy": "2023-12-11T15:37:22.430589Z",
          "iopub.execute_input": "2023-12-11T15:37:22.430891Z",
          "iopub.status.idle": "2023-12-11T15:39:56.000728Z",
          "shell.execute_reply.started": "2023-12-11T15:37:22.430867Z",
          "shell.execute_reply": "2023-12-11T15:39:55.999892Z"
        },
        "trusted": true,
        "id": "ieVpPNTLSgLf",
        "outputId": "44c45142-9c34-4866-b944-51193a8388ee"
      },
      "execution_count": null,
      "outputs": [
        {
          "name": "stderr",
          "text": " 20%|██        | 1/5 [00:34<02:18, 34.50s/it]",
          "output_type": "stream"
        },
        {
          "name": "stdout",
          "text": "train accuracy = 0.9322084784507751 in epoch0\n",
          "output_type": "stream"
        },
        {
          "name": "stderr",
          "text": " 40%|████      | 2/5 [01:03<01:33, 31.10s/it]",
          "output_type": "stream"
        },
        {
          "name": "stdout",
          "text": "train accuracy = 0.9562699794769287 in epoch1\n",
          "output_type": "stream"
        },
        {
          "name": "stderr",
          "text": " 60%|██████    | 3/5 [01:32<01:00, 30.30s/it]",
          "output_type": "stream"
        },
        {
          "name": "stdout",
          "text": "train accuracy = 0.9569688439369202 in epoch2\n",
          "output_type": "stream"
        },
        {
          "name": "stderr",
          "text": " 80%|████████  | 4/5 [02:02<00:30, 30.21s/it]",
          "output_type": "stream"
        },
        {
          "name": "stdout",
          "text": "train accuracy = 0.9612619876861572 in epoch3\n",
          "output_type": "stream"
        },
        {
          "name": "stderr",
          "text": "100%|██████████| 5/5 [02:33<00:00, 30.71s/it]",
          "output_type": "stream"
        },
        {
          "name": "stdout",
          "text": "train accuracy = 0.9645566940307617 in epoch4\n",
          "output_type": "stream"
        },
        {
          "name": "stderr",
          "text": "\n",
          "output_type": "stream"
        }
      ]
    },
    {
      "cell_type": "code",
      "source": [
        "total_losses = torch.tensor(total_loss_list, device = 'cpu')\n",
        "train_accuracies = torch.tensor(train_acc_list, device = 'cpu')\n",
        "train_accuracies, total_losses"
      ],
      "metadata": {
        "execution": {
          "iopub.status.busy": "2023-12-11T15:39:56.002075Z",
          "iopub.execute_input": "2023-12-11T15:39:56.002366Z",
          "iopub.status.idle": "2023-12-11T15:39:56.021113Z",
          "shell.execute_reply.started": "2023-12-11T15:39:56.002333Z",
          "shell.execute_reply": "2023-12-11T15:39:56.020150Z"
        },
        "trusted": true,
        "id": "YnJiMZR6SgLg",
        "outputId": "cae58869-798c-4281-dab9-b9fae37f00c0"
      },
      "execution_count": null,
      "outputs": [
        {
          "execution_count": 11,
          "output_type": "execute_result",
          "data": {
            "text/plain": "(tensor([0.9322, 0.9563, 0.9570, 0.9613, 0.9646]),\n tensor([53.7963, 35.4817, 34.0932, 30.3374, 26.5255]))"
          },
          "metadata": {}
        }
      ]
    },
    {
      "cell_type": "code",
      "source": [
        "epochs = [1, 2, 3, 4, 5]\n",
        "fig, ax = plt.subplots(2, 1)\n",
        "\n",
        "ax[0].plot(epochs, total_losses)\n",
        "ax[0].set(xlabel='epoch', ylabel='loss')\n",
        "ax[0].grid()\n",
        "\n",
        "ax[1].plot(epochs, train_accuracies)\n",
        "ax[1].set(xlabel='epoch', ylabel='train accuracy')\n",
        "ax[1].grid()\n",
        "\n",
        "plt.show()"
      ],
      "metadata": {
        "execution": {
          "iopub.status.busy": "2023-12-11T15:39:56.022279Z",
          "iopub.execute_input": "2023-12-11T15:39:56.023156Z",
          "iopub.status.idle": "2023-12-11T15:39:56.446847Z",
          "shell.execute_reply.started": "2023-12-11T15:39:56.023129Z",
          "shell.execute_reply": "2023-12-11T15:39:56.445825Z"
        },
        "trusted": true,
        "id": "WfCCHPgVSgLh",
        "outputId": "9d89a220-12dc-4fed-af1b-714e1724155d"
      },
      "execution_count": null,
      "outputs": [
        {
          "output_type": "display_data",
          "data": {
            "text/plain": "<Figure size 640x480 with 2 Axes>",
            "image/png": "[encoded data removed]"
          },
          "metadata": {}
        }
      ]
    },
    {
      "cell_type": "code",
      "source": [
        "test_loss, test_acc = model1.test_model(test_dataloader, BATCH_SIZE)\n",
        "print(f\"test loss = {test_loss}\")\n",
        "print(f\"test accuracy = {test_acc}\")"
      ],
      "metadata": {
        "execution": {
          "iopub.status.busy": "2023-12-11T15:39:56.448110Z",
          "iopub.execute_input": "2023-12-11T15:39:56.448432Z",
          "iopub.status.idle": "2023-12-11T15:40:02.313546Z",
          "shell.execute_reply.started": "2023-12-11T15:39:56.448404Z",
          "shell.execute_reply": "2023-12-11T15:40:02.312585Z"
        },
        "trusted": true,
        "id": "_4BoCtQtSgLh",
        "outputId": "1a6deef1-76c8-4208-f500-86c0ced2100c"
      },
      "execution_count": null,
      "outputs": [
        {
          "name": "stdout",
          "text": "test loss = 6.112537860870361\ntest accuracy = 0.9568452835083008\n",
          "output_type": "stream"
        }
      ]
    },
    {
      "cell_type": "code",
      "source": [
        "model2 = ResnetModel()\n",
        "model2"
      ],
      "metadata": {
        "execution": {
          "iopub.status.busy": "2023-12-11T15:40:02.317161Z",
          "iopub.execute_input": "2023-12-11T15:40:02.317713Z",
          "iopub.status.idle": "2023-12-11T15:40:02.826355Z",
          "shell.execute_reply.started": "2023-12-11T15:40:02.317684Z",
          "shell.execute_reply": "2023-12-11T15:40:02.825442Z"
        },
        "trusted": true,
        "id": "qZhYYan9SgLh",
        "outputId": "0729cdbc-8333-4175-b0f8-191b271a27e6"
      },
      "execution_count": null,
      "outputs": [
        {
          "execution_count": 14,
          "output_type": "execute_result",
          "data": {
            "text/plain": "ResnetModel(\n  (model): ResNet(\n    (conv1): Conv2d(3, 64, kernel_size=(7, 7), stride=(2, 2), padding=(3, 3), bias=False)\n    (bn1): BatchNorm2d(64, eps=1e-05, momentum=0.1, affine=True, track_running_stats=True)\n    (relu): ReLU(inplace=True)\n    (maxpool): MaxPool2d(kernel_size=3, stride=2, padding=1, dilation=1, ceil_mode=False)\n    (layer1): Sequential(\n      (0): Bottleneck(\n        (conv1): Conv2d(64, 64, kernel_size=(1, 1), stride=(1, 1), bias=False)\n        (bn1): BatchNorm2d(64, eps=1e-05, momentum=0.1, affine=True, track_running_stats=True)\n        (conv2): Conv2d(64, 64, kernel_size=(3, 3), stride=(1, 1), padding=(1, 1), bias=False)\n        (bn2): BatchNorm2d(64, eps=1e-05, momentum=0.1, affine=True, track_running_stats=True)\n        (conv3): Conv2d(64, 256, kernel_size=(1, 1), stride=(1, 1), bias=False)\n        (bn3): BatchNorm2d(256, eps=1e-05, momentum=0.1, affine=True, track_running_stats=True)\n        (relu): ReLU(inplace=True)\n        (downsample): Sequential(\n          (0): Conv2d(64, 256, kernel_size=(1, 1), stride=(1, 1), bias=False)\n          (1): BatchNorm2d(256, eps=1e-05, momentum=0.1, affine=True, track_running_stats=True)\n        )\n      )\n      (1): Bottleneck(\n        (conv1): Conv2d(256, 64, kernel_size=(1, 1), stride=(1, 1), bias=False)\n        (bn1): BatchNorm2d(64, eps=1e-05, momentum=0.1, affine=True, track_running_stats=True)\n        (conv2): Conv2d(64, 64, kernel_size=(3, 3), stride=(1, 1), padding=(1, 1), bias=False)\n        (bn2): BatchNorm2d(64, eps=1e-05, momentum=0.1, affine=True, track_running_stats=True)\n        (conv3): Conv2d(64, 256, kernel_size=(1, 1), stride=(1, 1), bias=False)\n        (bn3): BatchNorm2d(256, eps=1e-05, momentum=0.1, affine=True, track_running_stats=True)\n        (relu): ReLU(inplace=True)\n      )\n      (2): Bottleneck(\n        (conv1): Conv2d(256, 64, kernel_size=(1, 1), stride=(1, 1), bias=False)\n        (bn1): BatchNorm2d(64, eps=1e-05, momentum=0.1, affine=True, track_running_stats=True)\n        (conv2): Conv2d(64, 64, kernel_size=(3, 3), stride=(1, 1), padding=(1, 1), bias=False)\n        (bn2): BatchNorm2d(64, eps=1e-05, momentum=0.1, affine=True, track_running_stats=True)\n        (conv3): Conv2d(64, 256, kernel_size=(1, 1), stride=(1, 1), bias=False)\n        (bn3): BatchNorm2d(256, eps=1e-05, momentum=0.1, affine=True, track_running_stats=True)\n        (relu): ReLU(inplace=True)\n      )\n    )\n    (layer2): Sequential(\n      (0): Bottleneck(\n        (conv1): Conv2d(256, 128, kernel_size=(1, 1), stride=(1, 1), bias=False)\n        (bn1): BatchNorm2d(128, eps=1e-05, momentum=0.1, affine=True, track_running_stats=True)\n        (conv2): Conv2d(128, 128, kernel_size=(3, 3), stride=(2, 2), padding=(1, 1), bias=False)\n        (bn2): BatchNorm2d(128, eps=1e-05, momentum=0.1, affine=True, track_running_stats=True)\n        (conv3): Conv2d(128, 512, kernel_size=(1, 1), stride=(1, 1), bias=False)\n        (bn3): BatchNorm2d(512, eps=1e-05, momentum=0.1, affine=True, track_running_stats=True)\n        (relu): ReLU(inplace=True)\n        (downsample): Sequential(\n          (0): Conv2d(256, 512, kernel_size=(1, 1), stride=(2, 2), bias=False)\n          (1): BatchNorm2d(512, eps=1e-05, momentum=0.1, affine=True, track_running_stats=True)\n        )\n      )\n      (1): Bottleneck(\n        (conv1): Conv2d(512, 128, kernel_size=(1, 1), stride=(1, 1), bias=False)\n        (bn1): BatchNorm2d(128, eps=1e-05, momentum=0.1, affine=True, track_running_stats=True)\n        (conv2): Conv2d(128, 128, kernel_size=(3, 3), stride=(1, 1), padding=(1, 1), bias=False)\n        (bn2): BatchNorm2d(128, eps=1e-05, momentum=0.1, affine=True, track_running_stats=True)\n        (conv3): Conv2d(128, 512, kernel_size=(1, 1), stride=(1, 1), bias=False)\n        (bn3): BatchNorm2d(512, eps=1e-05, momentum=0.1, affine=True, track_running_stats=True)\n        (relu): ReLU(inplace=True)\n      )\n      (2): Bottleneck(\n        (conv1): Conv2d(512, 128, kernel_size=(1, 1), stride=(1, 1), bias=False)\n        (bn1): BatchNorm2d(128, eps=1e-05, momentum=0.1, affine=True, track_running_stats=True)\n        (conv2): Conv2d(128, 128, kernel_size=(3, 3), stride=(1, 1), padding=(1, 1), bias=False)\n        (bn2): BatchNorm2d(128, eps=1e-05, momentum=0.1, affine=True, track_running_stats=True)\n        (conv3): Conv2d(128, 512, kernel_size=(1, 1), stride=(1, 1), bias=False)\n        (bn3): BatchNorm2d(512, eps=1e-05, momentum=0.1, affine=True, track_running_stats=True)\n        (relu): ReLU(inplace=True)\n      )\n      (3): Bottleneck(\n        (conv1): Conv2d(512, 128, kernel_size=(1, 1), stride=(1, 1), bias=False)\n        (bn1): BatchNorm2d(128, eps=1e-05, momentum=0.1, affine=True, track_running_stats=True)\n        (conv2): Conv2d(128, 128, kernel_size=(3, 3), stride=(1, 1), padding=(1, 1), bias=False)\n        (bn2): BatchNorm2d(128, eps=1e-05, momentum=0.1, affine=True, track_running_stats=True)\n        (conv3): Conv2d(128, 512, kernel_size=(1, 1), stride=(1, 1), bias=False)\n        (bn3): BatchNorm2d(512, eps=1e-05, momentum=0.1, affine=True, track_running_stats=True)\n        (relu): ReLU(inplace=True)\n      )\n    )\n    (layer3): Sequential(\n      (0): Bottleneck(\n        (conv1): Conv2d(512, 256, kernel_size=(1, 1), stride=(1, 1), bias=False)\n        (bn1): BatchNorm2d(256, eps=1e-05, momentum=0.1, affine=True, track_running_stats=True)\n        (conv2): Conv2d(256, 256, kernel_size=(3, 3), stride=(2, 2), padding=(1, 1), bias=False)\n        (bn2): BatchNorm2d(256, eps=1e-05, momentum=0.1, affine=True, track_running_stats=True)\n        (conv3): Conv2d(256, 1024, kernel_size=(1, 1), stride=(1, 1), bias=False)\n        (bn3): BatchNorm2d(1024, eps=1e-05, momentum=0.1, affine=True, track_running_stats=True)\n        (relu): ReLU(inplace=True)\n        (downsample): Sequential(\n          (0): Conv2d(512, 1024, kernel_size=(1, 1), stride=(2, 2), bias=False)\n          (1): BatchNorm2d(1024, eps=1e-05, momentum=0.1, affine=True, track_running_stats=True)\n        )\n      )\n      (1): Bottleneck(\n        (conv1): Conv2d(1024, 256, kernel_size=(1, 1), stride=(1, 1), bias=False)\n        (bn1): BatchNorm2d(256, eps=1e-05, momentum=0.1, affine=True, track_running_stats=True)\n        (conv2): Conv2d(256, 256, kernel_size=(3, 3), stride=(1, 1), padding=(1, 1), bias=False)\n        (bn2): BatchNorm2d(256, eps=1e-05, momentum=0.1, affine=True, track_running_stats=True)\n        (conv3): Conv2d(256, 1024, kernel_size=(1, 1), stride=(1, 1), bias=False)\n        (bn3): BatchNorm2d(1024, eps=1e-05, momentum=0.1, affine=True, track_running_stats=True)\n        (relu): ReLU(inplace=True)\n      )\n      (2): Bottleneck(\n        (conv1): Conv2d(1024, 256, kernel_size=(1, 1), stride=(1, 1), bias=False)\n        (bn1): BatchNorm2d(256, eps=1e-05, momentum=0.1, affine=True, track_running_stats=True)\n        (conv2): Conv2d(256, 256, kernel_size=(3, 3), stride=(1, 1), padding=(1, 1), bias=False)\n        (bn2): BatchNorm2d(256, eps=1e-05, momentum=0.1, affine=True, track_running_stats=True)\n        (conv3): Conv2d(256, 1024, kernel_size=(1, 1), stride=(1, 1), bias=False)\n        (bn3): BatchNorm2d(1024, eps=1e-05, momentum=0.1, affine=True, track_running_stats=True)\n        (relu): ReLU(inplace=True)\n      )\n      (3): Bottleneck(\n        (conv1): Conv2d(1024, 256, kernel_size=(1, 1), stride=(1, 1), bias=False)\n        (bn1): BatchNorm2d(256, eps=1e-05, momentum=0.1, affine=True, track_running_stats=True)\n        (conv2): Conv2d(256, 256, kernel_size=(3, 3), stride=(1, 1), padding=(1, 1), bias=False)\n        (bn2): BatchNorm2d(256, eps=1e-05, momentum=0.1, affine=True, track_running_stats=True)\n        (conv3): Conv2d(256, 1024, kernel_size=(1, 1), stride=(1, 1), bias=False)\n        (bn3): BatchNorm2d(1024, eps=1e-05, momentum=0.1, affine=True, track_running_stats=True)\n        (relu): ReLU(inplace=True)\n      )\n      (4): Bottleneck(\n        (conv1): Conv2d(1024, 256, kernel_size=(1, 1), stride=(1, 1), bias=False)\n        (bn1): BatchNorm2d(256, eps=1e-05, momentum=0.1, affine=True, track_running_stats=True)\n        (conv2): Conv2d(256, 256, kernel_size=(3, 3), stride=(1, 1), padding=(1, 1), bias=False)\n        (bn2): BatchNorm2d(256, eps=1e-05, momentum=0.1, affine=True, track_running_stats=True)\n        (conv3): Conv2d(256, 1024, kernel_size=(1, 1), stride=(1, 1), bias=False)\n        (bn3): BatchNorm2d(1024, eps=1e-05, momentum=0.1, affine=True, track_running_stats=True)\n        (relu): ReLU(inplace=True)\n      )\n      (5): Bottleneck(\n        (conv1): Conv2d(1024, 256, kernel_size=(1, 1), stride=(1, 1), bias=False)\n        (bn1): BatchNorm2d(256, eps=1e-05, momentum=0.1, affine=True, track_running_stats=True)\n        (conv2): Conv2d(256, 256, kernel_size=(3, 3), stride=(1, 1), padding=(1, 1), bias=False)\n        (bn2): BatchNorm2d(256, eps=1e-05, momentum=0.1, affine=True, track_running_stats=True)\n        (conv3): Conv2d(256, 1024, kernel_size=(1, 1), stride=(1, 1), bias=False)\n        (bn3): BatchNorm2d(1024, eps=1e-05, momentum=0.1, affine=True, track_running_stats=True)\n        (relu): ReLU(inplace=True)\n      )\n    )\n    (layer4): Sequential(\n      (0): Bottleneck(\n        (conv1): Conv2d(1024, 512, kernel_size=(1, 1), stride=(1, 1), bias=False)\n        (bn1): BatchNorm2d(512, eps=1e-05, momentum=0.1, affine=True, track_running_stats=True)\n        (conv2): Conv2d(512, 512, kernel_size=(3, 3), stride=(2, 2), padding=(1, 1), bias=False)\n        (bn2): BatchNorm2d(512, eps=1e-05, momentum=0.1, affine=True, track_running_stats=True)\n        (conv3): Conv2d(512, 2048, kernel_size=(1, 1), stride=(1, 1), bias=False)\n        (bn3): BatchNorm2d(2048, eps=1e-05, momentum=0.1, affine=True, track_running_stats=True)\n        (relu): ReLU(inplace=True)\n        (downsample): Sequential(\n          (0): Conv2d(1024, 2048, kernel_size=(1, 1), stride=(2, 2), bias=False)\n          (1): BatchNorm2d(2048, eps=1e-05, momentum=0.1, affine=True, track_running_stats=True)\n        )\n      )\n      (1): Bottleneck(\n        (conv1): Conv2d(2048, 512, kernel_size=(1, 1), stride=(1, 1), bias=False)\n        (bn1): BatchNorm2d(512, eps=1e-05, momentum=0.1, affine=True, track_running_stats=True)\n        (conv2): Conv2d(512, 512, kernel_size=(3, 3), stride=(1, 1), padding=(1, 1), bias=False)\n        (bn2): BatchNorm2d(512, eps=1e-05, momentum=0.1, affine=True, track_running_stats=True)\n        (conv3): Conv2d(512, 2048, kernel_size=(1, 1), stride=(1, 1), bias=False)\n        (bn3): BatchNorm2d(2048, eps=1e-05, momentum=0.1, affine=True, track_running_stats=True)\n        (relu): ReLU(inplace=True)\n      )\n      (2): Bottleneck(\n        (conv1): Conv2d(2048, 512, kernel_size=(1, 1), stride=(1, 1), bias=False)\n        (bn1): BatchNorm2d(512, eps=1e-05, momentum=0.1, affine=True, track_running_stats=True)\n        (conv2): Conv2d(512, 512, kernel_size=(3, 3), stride=(1, 1), padding=(1, 1), bias=False)\n        (bn2): BatchNorm2d(512, eps=1e-05, momentum=0.1, affine=True, track_running_stats=True)\n        (conv3): Conv2d(512, 2048, kernel_size=(1, 1), stride=(1, 1), bias=False)\n        (bn3): BatchNorm2d(2048, eps=1e-05, momentum=0.1, affine=True, track_running_stats=True)\n        (relu): ReLU(inplace=True)\n      )\n    )\n    (avgpool): AdaptiveAvgPool2d(output_size=(1, 1))\n    (fc): Identity()\n  )\n  (classifier_layer): Sequential(\n    (0): Linear(in_features=2048, out_features=128, bias=True)\n    (1): ReLU(inplace=True)\n    (2): Linear(in_features=128, out_features=2, bias=True)\n  )\n)"
          },
          "metadata": {}
        }
      ]
    },
    {
      "cell_type": "code",
      "source": [
        "total_loss_list = []\n",
        "_, total_loss_list = model2.train_feature_extractor(train_dataloader)"
      ],
      "metadata": {
        "execution": {
          "iopub.status.busy": "2023-12-11T15:40:02.827562Z",
          "iopub.execute_input": "2023-12-11T15:40:02.827925Z",
          "iopub.status.idle": "2023-12-11T16:03:15.645651Z",
          "shell.execute_reply.started": "2023-12-11T15:40:02.827890Z",
          "shell.execute_reply": "2023-12-11T16:03:15.644706Z"
        },
        "trusted": true,
        "id": "dzH6ghXLSgLi",
        "outputId": "be80642d-eb1b-4ad6-d6fc-cb26522c3fbf"
      },
      "execution_count": null,
      "outputs": [
        {
          "name": "stderr",
          "text": "100%|██████████| 5/5 [23:12<00:00, 278.56s/it]\n",
          "output_type": "stream"
        }
      ]
    },
    {
      "cell_type": "code",
      "source": [
        "total_losses = torch.tensor(total_loss_list, device = 'cpu')\n",
        "total_losses"
      ],
      "metadata": {
        "execution": {
          "iopub.status.busy": "2023-12-11T16:03:15.646834Z",
          "iopub.execute_input": "2023-12-11T16:03:15.647110Z",
          "iopub.status.idle": "2023-12-11T16:03:15.653943Z",
          "shell.execute_reply.started": "2023-12-11T16:03:15.647085Z",
          "shell.execute_reply": "2023-12-11T16:03:15.653008Z"
        },
        "trusted": true,
        "id": "EqkqCSDnSgLi",
        "outputId": "40e510c5-dcd4-44d9-97ef-e17e26833a87"
      },
      "execution_count": null,
      "outputs": [
        {
          "execution_count": 16,
          "output_type": "execute_result",
          "data": {
            "text/plain": "tensor([60.6119, 21.7944,  8.4569,  4.0069,  6.3250])"
          },
          "metadata": {}
        }
      ]
    },
    {
      "cell_type": "code",
      "source": [
        "epochs = [1, 2, 3, 4, 5]\n",
        "fig, ax = plt.subplots(1, 1)\n",
        "\n",
        "ax.plot(epochs, total_losses)\n",
        "ax.set(xlabel='epoch', ylabel='triplet loss')\n",
        "ax.grid()\n",
        "\n",
        "plt.show()"
      ],
      "metadata": {
        "execution": {
          "iopub.status.busy": "2023-12-11T16:03:15.655113Z",
          "iopub.execute_input": "2023-12-11T16:03:15.655421Z",
          "iopub.status.idle": "2023-12-11T16:03:15.904337Z",
          "shell.execute_reply.started": "2023-12-11T16:03:15.655395Z",
          "shell.execute_reply": "2023-12-11T16:03:15.903475Z"
        },
        "trusted": true,
        "id": "3Nc81VD4SgLi",
        "outputId": "fc6e4f9f-69fd-4af8-d6d4-2bf5dd0b9881"
      },
      "execution_count": null,
      "outputs": [
        {
          "output_type": "display_data",
          "data": {
            "text/plain": "<Figure size 640x480 with 1 Axes>",
            "image/png": "[encoded data removed]"
          },
          "metadata": {}
        }
      ]
    },
    {
      "cell_type": "code",
      "source": [
        "for param in model2.parameters():\n",
        "    param.requires_grad = False\n",
        "train_acc_list = []\n",
        "total_loss_list = []\n",
        "train_acc_list, total_loss_list = model2.train_classifier(train_dataloader, BATCH_SIZE)"
      ],
      "metadata": {
        "execution": {
          "iopub.status.busy": "2023-12-11T16:07:40.688671Z",
          "iopub.execute_input": "2023-12-11T16:07:40.689525Z",
          "iopub.status.idle": "2023-12-11T16:10:13.913974Z",
          "shell.execute_reply.started": "2023-12-11T16:07:40.689489Z",
          "shell.execute_reply": "2023-12-11T16:10:13.913049Z"
        },
        "trusted": true,
        "id": "0xJXzLQ0SgLi",
        "outputId": "1e16e9f8-2daf-4ec0-fd7b-fd7199dbc956"
      },
      "execution_count": null,
      "outputs": [
        {
          "name": "stderr",
          "text": " 20%|██        | 1/5 [00:30<02:00, 30.00s/it]",
          "output_type": "stream"
        },
        {
          "name": "stdout",
          "text": "train accuracy = 0.9817292094230652 in epoch0\n",
          "output_type": "stream"
        },
        {
          "name": "stderr",
          "text": " 40%|████      | 2/5 [01:00<01:31, 30.55s/it]",
          "output_type": "stream"
        },
        {
          "name": "stdout",
          "text": "train accuracy = 0.989217221736908 in epoch1\n",
          "output_type": "stream"
        },
        {
          "name": "stderr",
          "text": " 60%|██████    | 3/5 [01:31<01:01, 30.57s/it]",
          "output_type": "stream"
        },
        {
          "name": "stdout",
          "text": "train accuracy = 0.9896165728569031 in epoch2\n",
          "output_type": "stream"
        },
        {
          "name": "stderr",
          "text": " 80%|████████  | 4/5 [02:01<00:30, 30.49s/it]",
          "output_type": "stream"
        },
        {
          "name": "stdout",
          "text": "train accuracy = 0.9901158213615417 in epoch3\n",
          "output_type": "stream"
        },
        {
          "name": "stderr",
          "text": "100%|██████████| 5/5 [02:32<00:00, 30.51s/it]",
          "output_type": "stream"
        },
        {
          "name": "stdout",
          "text": "train accuracy = 0.9910143613815308 in epoch4\n",
          "output_type": "stream"
        },
        {
          "name": "stderr",
          "text": "\n",
          "output_type": "stream"
        }
      ]
    },
    {
      "cell_type": "code",
      "source": [
        "total_losses = []\n",
        "total_losses = torch.tensor(total_loss_list, device = 'cpu')\n",
        "train_accuracies = torch.tensor(train_acc_list, device = 'cpu')\n",
        "train_accuracies, total_losses"
      ],
      "metadata": {
        "execution": {
          "iopub.status.busy": "2023-12-11T16:10:13.915578Z",
          "iopub.execute_input": "2023-12-11T16:10:13.915891Z",
          "iopub.status.idle": "2023-12-11T16:10:13.923793Z",
          "shell.execute_reply.started": "2023-12-11T16:10:13.915865Z",
          "shell.execute_reply": "2023-12-11T16:10:13.923016Z"
        },
        "trusted": true,
        "id": "xcmXAIuFSgLj",
        "outputId": "5ef61fca-dab6-48a1-e457-923358c6b495"
      },
      "execution_count": null,
      "outputs": [
        {
          "execution_count": 19,
          "output_type": "execute_result",
          "data": {
            "text/plain": "(tensor([0.9817, 0.9892, 0.9896, 0.9901, 0.9910]),\n tensor([20.9644,  8.4095,  7.8986,  7.6906,  5.8673]))"
          },
          "metadata": {}
        }
      ]
    },
    {
      "cell_type": "code",
      "source": [
        "epochs = [1, 2, 3, 4, 5]\n",
        "fig, ax = plt.subplots(2, 1)\n",
        "\n",
        "ax[0].plot(epochs, total_losses)\n",
        "ax[0].set(xlabel='epoch', ylabel='loss')\n",
        "ax[0].grid()\n",
        "\n",
        "ax[1].plot(epochs, train_accuracies)\n",
        "ax[1].set(xlabel='epoch', ylabel='train accuracy')\n",
        "ax[1].grid()\n",
        "\n",
        "plt.show()"
      ],
      "metadata": {
        "execution": {
          "iopub.status.busy": "2023-12-11T16:10:14.311611Z",
          "iopub.execute_input": "2023-12-11T16:10:14.311913Z",
          "iopub.status.idle": "2023-12-11T16:10:14.692430Z",
          "shell.execute_reply.started": "2023-12-11T16:10:14.311887Z",
          "shell.execute_reply": "2023-12-11T16:10:14.691468Z"
        },
        "trusted": true,
        "id": "hn66u7FySgLj",
        "outputId": "0f67360f-16dc-439e-e4c4-af657a3894cf"
      },
      "execution_count": null,
      "outputs": [
        {
          "output_type": "display_data",
          "data": {
            "text/plain": "<Figure size 640x480 with 2 Axes>",
            "image/png": "[encoded data removed]"
          },
          "metadata": {}
        }
      ]
    },
    {
      "cell_type": "code",
      "source": [
        "test_loss, test_acc = model2.test_model(test_dataloader, BATCH_SIZE)\n",
        "print(f\"test loss = {test_loss}\")\n",
        "print(f\"test accuracy = {test_acc}\")"
      ],
      "metadata": {
        "execution": {
          "iopub.status.busy": "2023-12-11T16:28:56.742363Z",
          "iopub.execute_input": "2023-12-11T16:28:56.742715Z",
          "iopub.status.idle": "2023-12-11T16:29:02.372631Z",
          "shell.execute_reply.started": "2023-12-11T16:28:56.742685Z",
          "shell.execute_reply": "2023-12-11T16:29:02.371486Z"
        },
        "trusted": true,
        "id": "oRgrPqweSgLj",
        "outputId": "e99766b6-283f-44bd-8d58-a59ac45a18d5"
      },
      "execution_count": null,
      "outputs": [
        {
          "name": "stdout",
          "text": "test loss = 1.7471505403518677\ntest accuracy = 0.9841270446777344\n",
          "output_type": "stream"
        }
      ]
    },
    {
      "cell_type": "code",
      "source": [
        "model3 = ResnetModel()\n",
        "model3"
      ],
      "metadata": {
        "execution": {
          "iopub.status.busy": "2023-12-11T17:20:51.109689Z",
          "iopub.execute_input": "2023-12-11T17:20:51.110092Z",
          "iopub.status.idle": "2023-12-11T17:20:51.575823Z",
          "shell.execute_reply.started": "2023-12-11T17:20:51.110056Z",
          "shell.execute_reply": "2023-12-11T17:20:51.574933Z"
        },
        "trusted": true,
        "id": "iqCs6WLqSgLj",
        "outputId": "ee774e2a-93ff-41d7-b760-c7afa1b57368"
      },
      "execution_count": null,
      "outputs": [
        {
          "execution_count": 16,
          "output_type": "execute_result",
          "data": {
            "text/plain": "ResnetModel(\n  (model): ResNet(\n    (conv1): Conv2d(3, 64, kernel_size=(7, 7), stride=(2, 2), padding=(3, 3), bias=False)\n    (bn1): BatchNorm2d(64, eps=1e-05, momentum=0.1, affine=True, track_running_stats=True)\n    (relu): ReLU(inplace=True)\n    (maxpool): MaxPool2d(kernel_size=3, stride=2, padding=1, dilation=1, ceil_mode=False)\n    (layer1): Sequential(\n      (0): Bottleneck(\n        (conv1): Conv2d(64, 64, kernel_size=(1, 1), stride=(1, 1), bias=False)\n        (bn1): BatchNorm2d(64, eps=1e-05, momentum=0.1, affine=True, track_running_stats=True)\n        (conv2): Conv2d(64, 64, kernel_size=(3, 3), stride=(1, 1), padding=(1, 1), bias=False)\n        (bn2): BatchNorm2d(64, eps=1e-05, momentum=0.1, affine=True, track_running_stats=True)\n        (conv3): Conv2d(64, 256, kernel_size=(1, 1), stride=(1, 1), bias=False)\n        (bn3): BatchNorm2d(256, eps=1e-05, momentum=0.1, affine=True, track_running_stats=True)\n        (relu): ReLU(inplace=True)\n        (downsample): Sequential(\n          (0): Conv2d(64, 256, kernel_size=(1, 1), stride=(1, 1), bias=False)\n          (1): BatchNorm2d(256, eps=1e-05, momentum=0.1, affine=True, track_running_stats=True)\n        )\n      )\n      (1): Bottleneck(\n        (conv1): Conv2d(256, 64, kernel_size=(1, 1), stride=(1, 1), bias=False)\n        (bn1): BatchNorm2d(64, eps=1e-05, momentum=0.1, affine=True, track_running_stats=True)\n        (conv2): Conv2d(64, 64, kernel_size=(3, 3), stride=(1, 1), padding=(1, 1), bias=False)\n        (bn2): BatchNorm2d(64, eps=1e-05, momentum=0.1, affine=True, track_running_stats=True)\n        (conv3): Conv2d(64, 256, kernel_size=(1, 1), stride=(1, 1), bias=False)\n        (bn3): BatchNorm2d(256, eps=1e-05, momentum=0.1, affine=True, track_running_stats=True)\n        (relu): ReLU(inplace=True)\n      )\n      (2): Bottleneck(\n        (conv1): Conv2d(256, 64, kernel_size=(1, 1), stride=(1, 1), bias=False)\n        (bn1): BatchNorm2d(64, eps=1e-05, momentum=0.1, affine=True, track_running_stats=True)\n        (conv2): Conv2d(64, 64, kernel_size=(3, 3), stride=(1, 1), padding=(1, 1), bias=False)\n        (bn2): BatchNorm2d(64, eps=1e-05, momentum=0.1, affine=True, track_running_stats=True)\n        (conv3): Conv2d(64, 256, kernel_size=(1, 1), stride=(1, 1), bias=False)\n        (bn3): BatchNorm2d(256, eps=1e-05, momentum=0.1, affine=True, track_running_stats=True)\n        (relu): ReLU(inplace=True)\n      )\n    )\n    (layer2): Sequential(\n      (0): Bottleneck(\n        (conv1): Conv2d(256, 128, kernel_size=(1, 1), stride=(1, 1), bias=False)\n        (bn1): BatchNorm2d(128, eps=1e-05, momentum=0.1, affine=True, track_running_stats=True)\n        (conv2): Conv2d(128, 128, kernel_size=(3, 3), stride=(2, 2), padding=(1, 1), bias=False)\n        (bn2): BatchNorm2d(128, eps=1e-05, momentum=0.1, affine=True, track_running_stats=True)\n        (conv3): Conv2d(128, 512, kernel_size=(1, 1), stride=(1, 1), bias=False)\n        (bn3): BatchNorm2d(512, eps=1e-05, momentum=0.1, affine=True, track_running_stats=True)\n        (relu): ReLU(inplace=True)\n        (downsample): Sequential(\n          (0): Conv2d(256, 512, kernel_size=(1, 1), stride=(2, 2), bias=False)\n          (1): BatchNorm2d(512, eps=1e-05, momentum=0.1, affine=True, track_running_stats=True)\n        )\n      )\n      (1): Bottleneck(\n        (conv1): Conv2d(512, 128, kernel_size=(1, 1), stride=(1, 1), bias=False)\n        (bn1): BatchNorm2d(128, eps=1e-05, momentum=0.1, affine=True, track_running_stats=True)\n        (conv2): Conv2d(128, 128, kernel_size=(3, 3), stride=(1, 1), padding=(1, 1), bias=False)\n        (bn2): BatchNorm2d(128, eps=1e-05, momentum=0.1, affine=True, track_running_stats=True)\n        (conv3): Conv2d(128, 512, kernel_size=(1, 1), stride=(1, 1), bias=False)\n        (bn3): BatchNorm2d(512, eps=1e-05, momentum=0.1, affine=True, track_running_stats=True)\n        (relu): ReLU(inplace=True)\n      )\n      (2): Bottleneck(\n        (conv1): Conv2d(512, 128, kernel_size=(1, 1), stride=(1, 1), bias=False)\n        (bn1): BatchNorm2d(128, eps=1e-05, momentum=0.1, affine=True, track_running_stats=True)\n        (conv2): Conv2d(128, 128, kernel_size=(3, 3), stride=(1, 1), padding=(1, 1), bias=False)\n        (bn2): BatchNorm2d(128, eps=1e-05, momentum=0.1, affine=True, track_running_stats=True)\n        (conv3): Conv2d(128, 512, kernel_size=(1, 1), stride=(1, 1), bias=False)\n        (bn3): BatchNorm2d(512, eps=1e-05, momentum=0.1, affine=True, track_running_stats=True)\n        (relu): ReLU(inplace=True)\n      )\n      (3): Bottleneck(\n        (conv1): Conv2d(512, 128, kernel_size=(1, 1), stride=(1, 1), bias=False)\n        (bn1): BatchNorm2d(128, eps=1e-05, momentum=0.1, affine=True, track_running_stats=True)\n        (conv2): Conv2d(128, 128, kernel_size=(3, 3), stride=(1, 1), padding=(1, 1), bias=False)\n        (bn2): BatchNorm2d(128, eps=1e-05, momentum=0.1, affine=True, track_running_stats=True)\n        (conv3): Conv2d(128, 512, kernel_size=(1, 1), stride=(1, 1), bias=False)\n        (bn3): BatchNorm2d(512, eps=1e-05, momentum=0.1, affine=True, track_running_stats=True)\n        (relu): ReLU(inplace=True)\n      )\n    )\n    (layer3): Sequential(\n      (0): Bottleneck(\n        (conv1): Conv2d(512, 256, kernel_size=(1, 1), stride=(1, 1), bias=False)\n        (bn1): BatchNorm2d(256, eps=1e-05, momentum=0.1, affine=True, track_running_stats=True)\n        (conv2): Conv2d(256, 256, kernel_size=(3, 3), stride=(2, 2), padding=(1, 1), bias=False)\n        (bn2): BatchNorm2d(256, eps=1e-05, momentum=0.1, affine=True, track_running_stats=True)\n        (conv3): Conv2d(256, 1024, kernel_size=(1, 1), stride=(1, 1), bias=False)\n        (bn3): BatchNorm2d(1024, eps=1e-05, momentum=0.1, affine=True, track_running_stats=True)\n        (relu): ReLU(inplace=True)\n        (downsample): Sequential(\n          (0): Conv2d(512, 1024, kernel_size=(1, 1), stride=(2, 2), bias=False)\n          (1): BatchNorm2d(1024, eps=1e-05, momentum=0.1, affine=True, track_running_stats=True)\n        )\n      )\n      (1): Bottleneck(\n        (conv1): Conv2d(1024, 256, kernel_size=(1, 1), stride=(1, 1), bias=False)\n        (bn1): BatchNorm2d(256, eps=1e-05, momentum=0.1, affine=True, track_running_stats=True)\n        (conv2): Conv2d(256, 256, kernel_size=(3, 3), stride=(1, 1), padding=(1, 1), bias=False)\n        (bn2): BatchNorm2d(256, eps=1e-05, momentum=0.1, affine=True, track_running_stats=True)\n        (conv3): Conv2d(256, 1024, kernel_size=(1, 1), stride=(1, 1), bias=False)\n        (bn3): BatchNorm2d(1024, eps=1e-05, momentum=0.1, affine=True, track_running_stats=True)\n        (relu): ReLU(inplace=True)\n      )\n      (2): Bottleneck(\n        (conv1): Conv2d(1024, 256, kernel_size=(1, 1), stride=(1, 1), bias=False)\n        (bn1): BatchNorm2d(256, eps=1e-05, momentum=0.1, affine=True, track_running_stats=True)\n        (conv2): Conv2d(256, 256, kernel_size=(3, 3), stride=(1, 1), padding=(1, 1), bias=False)\n        (bn2): BatchNorm2d(256, eps=1e-05, momentum=0.1, affine=True, track_running_stats=True)\n        (conv3): Conv2d(256, 1024, kernel_size=(1, 1), stride=(1, 1), bias=False)\n        (bn3): BatchNorm2d(1024, eps=1e-05, momentum=0.1, affine=True, track_running_stats=True)\n        (relu): ReLU(inplace=True)\n      )\n      (3): Bottleneck(\n        (conv1): Conv2d(1024, 256, kernel_size=(1, 1), stride=(1, 1), bias=False)\n        (bn1): BatchNorm2d(256, eps=1e-05, momentum=0.1, affine=True, track_running_stats=True)\n        (conv2): Conv2d(256, 256, kernel_size=(3, 3), stride=(1, 1), padding=(1, 1), bias=False)\n        (bn2): BatchNorm2d(256, eps=1e-05, momentum=0.1, affine=True, track_running_stats=True)\n        (conv3): Conv2d(256, 1024, kernel_size=(1, 1), stride=(1, 1), bias=False)\n        (bn3): BatchNorm2d(1024, eps=1e-05, momentum=0.1, affine=True, track_running_stats=True)\n        (relu): ReLU(inplace=True)\n      )\n      (4): Bottleneck(\n        (conv1): Conv2d(1024, 256, kernel_size=(1, 1), stride=(1, 1), bias=False)\n        (bn1): BatchNorm2d(256, eps=1e-05, momentum=0.1, affine=True, track_running_stats=True)\n        (conv2): Conv2d(256, 256, kernel_size=(3, 3), stride=(1, 1), padding=(1, 1), bias=False)\n        (bn2): BatchNorm2d(256, eps=1e-05, momentum=0.1, affine=True, track_running_stats=True)\n        (conv3): Conv2d(256, 1024, kernel_size=(1, 1), stride=(1, 1), bias=False)\n        (bn3): BatchNorm2d(1024, eps=1e-05, momentum=0.1, affine=True, track_running_stats=True)\n        (relu): ReLU(inplace=True)\n      )\n      (5): Bottleneck(\n        (conv1): Conv2d(1024, 256, kernel_size=(1, 1), stride=(1, 1), bias=False)\n        (bn1): BatchNorm2d(256, eps=1e-05, momentum=0.1, affine=True, track_running_stats=True)\n        (conv2): Conv2d(256, 256, kernel_size=(3, 3), stride=(1, 1), padding=(1, 1), bias=False)\n        (bn2): BatchNorm2d(256, eps=1e-05, momentum=0.1, affine=True, track_running_stats=True)\n        (conv3): Conv2d(256, 1024, kernel_size=(1, 1), stride=(1, 1), bias=False)\n        (bn3): BatchNorm2d(1024, eps=1e-05, momentum=0.1, affine=True, track_running_stats=True)\n        (relu): ReLU(inplace=True)\n      )\n    )\n    (layer4): Sequential(\n      (0): Bottleneck(\n        (conv1): Conv2d(1024, 512, kernel_size=(1, 1), stride=(1, 1), bias=False)\n        (bn1): BatchNorm2d(512, eps=1e-05, momentum=0.1, affine=True, track_running_stats=True)\n        (conv2): Conv2d(512, 512, kernel_size=(3, 3), stride=(2, 2), padding=(1, 1), bias=False)\n        (bn2): BatchNorm2d(512, eps=1e-05, momentum=0.1, affine=True, track_running_stats=True)\n        (conv3): Conv2d(512, 2048, kernel_size=(1, 1), stride=(1, 1), bias=False)\n        (bn3): BatchNorm2d(2048, eps=1e-05, momentum=0.1, affine=True, track_running_stats=True)\n        (relu): ReLU(inplace=True)\n        (downsample): Sequential(\n          (0): Conv2d(1024, 2048, kernel_size=(1, 1), stride=(2, 2), bias=False)\n          (1): BatchNorm2d(2048, eps=1e-05, momentum=0.1, affine=True, track_running_stats=True)\n        )\n      )\n      (1): Bottleneck(\n        (conv1): Conv2d(2048, 512, kernel_size=(1, 1), stride=(1, 1), bias=False)\n        (bn1): BatchNorm2d(512, eps=1e-05, momentum=0.1, affine=True, track_running_stats=True)\n        (conv2): Conv2d(512, 512, kernel_size=(3, 3), stride=(1, 1), padding=(1, 1), bias=False)\n        (bn2): BatchNorm2d(512, eps=1e-05, momentum=0.1, affine=True, track_running_stats=True)\n        (conv3): Conv2d(512, 2048, kernel_size=(1, 1), stride=(1, 1), bias=False)\n        (bn3): BatchNorm2d(2048, eps=1e-05, momentum=0.1, affine=True, track_running_stats=True)\n        (relu): ReLU(inplace=True)\n      )\n      (2): Bottleneck(\n        (conv1): Conv2d(2048, 512, kernel_size=(1, 1), stride=(1, 1), bias=False)\n        (bn1): BatchNorm2d(512, eps=1e-05, momentum=0.1, affine=True, track_running_stats=True)\n        (conv2): Conv2d(512, 512, kernel_size=(3, 3), stride=(1, 1), padding=(1, 1), bias=False)\n        (bn2): BatchNorm2d(512, eps=1e-05, momentum=0.1, affine=True, track_running_stats=True)\n        (conv3): Conv2d(512, 2048, kernel_size=(1, 1), stride=(1, 1), bias=False)\n        (bn3): BatchNorm2d(2048, eps=1e-05, momentum=0.1, affine=True, track_running_stats=True)\n        (relu): ReLU(inplace=True)\n      )\n    )\n    (avgpool): AdaptiveAvgPool2d(output_size=(1, 1))\n    (fc): Identity()\n  )\n  (classifier_layer): Sequential(\n    (0): Linear(in_features=2048, out_features=128, bias=True)\n    (1): ReLU(inplace=True)\n    (2): Linear(in_features=128, out_features=2, bias=True)\n  )\n)"
          },
          "metadata": {}
        }
      ]
    },
    {
      "cell_type": "code",
      "source": [
        "total_loss_list = []\n",
        "total_acc_list = []\n",
        "total_acc_list, total_loss_list = model3.train_model(train_dataloader, BATCH_SIZE)"
      ],
      "metadata": {
        "execution": {
          "iopub.status.busy": "2023-12-11T17:20:53.644339Z",
          "iopub.execute_input": "2023-12-11T17:20:53.644701Z",
          "iopub.status.idle": "2023-12-11T17:53:11.925157Z",
          "shell.execute_reply.started": "2023-12-11T17:20:53.644671Z",
          "shell.execute_reply": "2023-12-11T17:53:11.924289Z"
        },
        "trusted": true,
        "id": "syzS2U1GSgLk",
        "outputId": "4bcc7dcc-8d23-478b-d435-015a36309396"
      },
      "execution_count": null,
      "outputs": [
        {
          "name": "stderr",
          "text": " 20%|██        | 1/5 [06:32<26:10, 392.71s/it]",
          "output_type": "stream"
        },
        {
          "name": "stdout",
          "text": "train accuracy = 0.9419928193092346 in epoch0\n",
          "output_type": "stream"
        },
        {
          "name": "stderr",
          "text": " 40%|████      | 2/5 [13:01<19:32, 390.69s/it]",
          "output_type": "stream"
        },
        {
          "name": "stdout",
          "text": "train accuracy = 0.9701477289199829 in epoch1\n",
          "output_type": "stream"
        },
        {
          "name": "stderr",
          "text": " 60%|██████    | 3/5 [19:29<12:58, 389.19s/it]",
          "output_type": "stream"
        },
        {
          "name": "stdout",
          "text": "train accuracy = 0.9777355790138245 in epoch2\n",
          "output_type": "stream"
        },
        {
          "name": "stderr",
          "text": " 80%|████████  | 4/5 [25:55<06:27, 387.90s/it]",
          "output_type": "stream"
        },
        {
          "name": "stdout",
          "text": "train accuracy = 0.9817292094230652 in epoch3\n",
          "output_type": "stream"
        },
        {
          "name": "stderr",
          "text": "100%|██████████| 5/5 [32:17<00:00, 387.50s/it]",
          "output_type": "stream"
        },
        {
          "name": "stdout",
          "text": "train accuracy = 0.9885183572769165 in epoch4\n",
          "output_type": "stream"
        },
        {
          "name": "stderr",
          "text": "\n",
          "output_type": "stream"
        }
      ]
    },
    {
      "cell_type": "code",
      "source": [
        "total_losses = torch.tensor(total_loss_list, device = 'cpu')\n",
        "train_accuracies = torch.tensor(total_acc_list, device = 'cpu')\n",
        "train_accuracies, total_losses"
      ],
      "metadata": {
        "execution": {
          "iopub.status.busy": "2023-12-11T17:53:11.926653Z",
          "iopub.execute_input": "2023-12-11T17:53:11.926934Z",
          "iopub.status.idle": "2023-12-11T17:53:11.934602Z",
          "shell.execute_reply.started": "2023-12-11T17:53:11.926908Z",
          "shell.execute_reply": "2023-12-11T17:53:11.933710Z"
        },
        "trusted": true,
        "id": "vDRGGNKUSgLk",
        "outputId": "e396b3b4-463a-42c6-91f5-11005063ea68"
      },
      "execution_count": null,
      "outputs": [
        {
          "execution_count": 18,
          "output_type": "execute_result",
          "data": {
            "text/plain": "(tensor([0.9420, 0.9701, 0.9777, 0.9817, 0.9885]),\n tensor([100.4359,  46.7476,  29.6581,  24.8980,  16.1813]))"
          },
          "metadata": {}
        }
      ]
    },
    {
      "cell_type": "code",
      "source": [
        "epochs = [1, 2, 3, 4, 5]\n",
        "fig, ax = plt.subplots(2, 1)\n",
        "\n",
        "ax[0].plot(epochs, total_losses)\n",
        "ax[0].set(xlabel='epoch', ylabel='loss')\n",
        "ax[0].grid()\n",
        "\n",
        "ax[1].plot(epochs, train_accuracies)\n",
        "ax[1].set(xlabel='epoch', ylabel='train accuracy')\n",
        "ax[1].grid()\n",
        "\n",
        "plt.show()"
      ],
      "metadata": {
        "execution": {
          "iopub.status.busy": "2023-12-11T17:56:57.452187Z",
          "iopub.execute_input": "2023-12-11T17:56:57.452822Z",
          "iopub.status.idle": "2023-12-11T17:56:57.843710Z",
          "shell.execute_reply.started": "2023-12-11T17:56:57.452790Z",
          "shell.execute_reply": "2023-12-11T17:56:57.842834Z"
        },
        "trusted": true,
        "id": "_NKlbYrqSgLk",
        "outputId": "a97792b0-2173-45ec-b3bd-274c9fe5d0a8"
      },
      "execution_count": null,
      "outputs": [
        {
          "output_type": "display_data",
          "data": {
            "text/plain": "<Figure size 640x480 with 2 Axes>",
            "image/png": "[encoded data removed]"
          },
          "metadata": {}
        }
      ]
    },
    {
      "cell_type": "code",
      "source": [
        "loss_fn = nn.CrossEntropyLoss()\n",
        "test_loss, test_acc = model3.test_model(test_dataloader, BATCH_SIZE)\n",
        "print(f\"test loss = {test_loss}\")\n",
        "print(f\"test accuracy = {test_acc}\")"
      ],
      "metadata": {
        "execution": {
          "iopub.status.busy": "2023-12-11T17:57:02.201550Z",
          "iopub.execute_input": "2023-12-11T17:57:02.202001Z",
          "iopub.status.idle": "2023-12-11T17:57:07.919192Z",
          "shell.execute_reply.started": "2023-12-11T17:57:02.201941Z",
          "shell.execute_reply": "2023-12-11T17:57:07.918226Z"
        },
        "trusted": true,
        "id": "1XFAAMZpSgLl",
        "outputId": "5e170e61-a87d-4e12-b141-8ec8575741b7"
      },
      "execution_count": null,
      "outputs": [
        {
          "name": "stdout",
          "text": "test loss = 2.768343210220337\ntest accuracy = 0.9751984477043152\n",
          "output_type": "stream"
        }
      ]
    },
    {
      "cell_type": "code",
      "source": [],
      "metadata": {
        "id": "1ANKp2rJSgLl"
      },
      "execution_count": null,
      "outputs": []
    },
    {
      "cell_type": "code",
      "source": [],
      "metadata": {
        "id": "NF6a_DhgSgLl"
      },
      "execution_count": null,
      "outputs": []
    }
  ]
}